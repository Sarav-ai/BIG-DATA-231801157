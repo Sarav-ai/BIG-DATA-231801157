{
 "cells": [
  {
   "cell_type": "code",
   "execution_count": 5,
   "metadata": {},
   "outputs": [
    {
     "name": "stdout",
     "output_type": "stream",
     "text": [
      "Rows in demand_df: 24\n",
      "Mean Absolute Error: 52213.249496981894\n"
     ]
    }
   ],
   "source": [
    "# ...existing code...\n",
    "import pandas as pd\n",
    "from sklearn.model_selection import train_test_split\n",
    "from sklearn.linear_model import LinearRegression\n",
    "from sklearn.metrics import mean_absolute_error\n",
    "\n",
    "csv_path = r\"C:\\Users\\asara\\OneDrive\\Documents\\Desktop\\BIG DATA\\data\\silver\\ride_demand_silver.csv\"\n",
    "\n",
    "# read CSV in chunks and aggregate rides by pickup hour to avoid MemoryError\n",
    "usecols = [\"tpep_pickup_datetime\"]\n",
    "parse_dates = [\"tpep_pickup_datetime\"]\n",
    "chunksize = 100_000\n",
    "\n",
    "# initialize counts for hours 0-23\n",
    "hour_counts = pd.Series(0, index=range(24), dtype=\"int64\")\n",
    "\n",
    "try:\n",
    "    for chunk in pd.read_csv(csv_path, usecols=usecols, parse_dates=parse_dates, chunksize=chunksize, low_memory=True):\n",
    "        # ensure datetime and extract hour\n",
    "        chunk[\"tpep_pickup_datetime\"] = pd.to_datetime(chunk[\"tpep_pickup_datetime\"], errors=\"coerce\")\n",
    "        hrs = chunk[\"tpep_pickup_datetime\"].dt.hour.dropna().astype(int)\n",
    "        if not hrs.empty:\n",
    "            counts = hrs.value_counts().sort_index()\n",
    "            hour_counts = hour_counts.add(counts, fill_value=0)\n",
    "except MemoryError:\n",
    "    raise MemoryError(\"Reading the CSV still failed due to memory. Try reducing chunksize or processing on a machine with more RAM.\")\n",
    "\n",
    "demand_df = hour_counts.reset_index()\n",
    "demand_df.columns = [\"hour\", \"demand\"]\n",
    "demand_df[\"hour\"] = demand_df[\"hour\"].astype(int)\n",
    "\n",
    "# simple model: predict demand from hour of day\n",
    "X = demand_df[[\"hour\"]]\n",
    "y = demand_df[\"demand\"]\n",
    "\n",
    "# train/test split (note: only up to 24 rows if aggregating by hour)\n",
    "X_train, X_test, y_train, y_test = train_test_split(X, y, test_size=0.2, random_state=42)\n",
    "\n",
    "model = LinearRegression()\n",
    "model.fit(X_train, y_train)\n",
    "y_pred = model.predict(X_test)\n",
    "\n",
    "mae = mean_absolute_error(y_test, y_pred)\n",
    "print(\"Rows in demand_df:\", demand_df.shape[0])\n",
    "print(\"Mean Absolute Error:\", mae)\n",
    "# ...existing code..."
   ]
  }
 ],
 "metadata": {
  "kernelspec": {
   "display_name": "Python 3",
   "language": "python",
   "name": "python3"
  },
  "language_info": {
   "codemirror_mode": {
    "name": "ipython",
    "version": 3
   },
   "file_extension": ".py",
   "mimetype": "text/x-python",
   "name": "python",
   "nbconvert_exporter": "python",
   "pygments_lexer": "ipython3",
   "version": "3.12.6"
  }
 },
 "nbformat": 4,
 "nbformat_minor": 2
}
